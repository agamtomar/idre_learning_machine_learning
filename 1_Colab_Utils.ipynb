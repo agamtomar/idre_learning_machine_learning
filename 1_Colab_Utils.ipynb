{
  "nbformat": 4,
  "nbformat_minor": 0,
  "metadata": {
    "colab": {
      "name": "1_Colab_Utils.ipynb",
      "provenance": [],
      "collapsed_sections": [
        "lw8NsQe5chAx"
      ],
      "toc_visible": true
    },
    "kernelspec": {
      "name": "python3",
      "display_name": "Python 3"
    },
    "accelerator": "GPU"
  },
  "cells": [
    {
      "cell_type": "markdown",
      "metadata": {
        "id": "4DnzS1MMAHxx",
        "colab_type": "text"
      },
      "source": [
        "##### Copyright 2019 Qiyang Hu"
      ]
    },
    {
      "cell_type": "code",
      "metadata": {
        "id": "lDUMZzvPAJDN",
        "colab_type": "code",
        "colab": {}
      },
      "source": [
        "#@title Licensed under MIT License (the \"License\");\n",
        "# you may not use this file except in compliance with the License.\n",
        "# You may obtain a copy of the License at\n",
        "#\n",
        "# https://huqy.github.io/idre_learning_machine_learning/LICENSE.md\n",
        "#\n",
        "# Unless required by applicable law or agreed to in writing, software\n",
        "# distributed under the License is distributed on an \"AS IS\" BASIS,\n",
        "# WITHOUT WARRANTIES OR CONDITIONS OF ANY KIND, either express or implied.\n",
        "# See the License for the specific language governing permissions and\n",
        "# limitations under the License."
      ],
      "execution_count": 0,
      "outputs": []
    },
    {
      "cell_type": "markdown",
      "metadata": {
        "id": "lAnO5Rg0bT48",
        "colab_type": "text"
      },
      "source": [
        "# Useful Routines for Collab"
      ]
    },
    {
      "cell_type": "markdown",
      "metadata": {
        "id": "VZHRSLNqh0Lo",
        "colab_type": "text"
      },
      "source": [
        "## Start Collab with requesting a free GPU from Google Cloud"
      ]
    },
    {
      "cell_type": "markdown",
      "metadata": {
        "id": "Jvemqlurh8tb",
        "colab_type": "text"
      },
      "source": [
        "    Edit -> Notebook settings -> Select GPU as Hardware accelerator\n",
        "\n",
        "**OR** \n",
        "\n",
        "1.   Google Drive -> New -> More -> Connect more apps -> Collaboratory\n",
        "2.   Google Drive -> New -> More -> Collaboratory\n",
        "3.   Runtime -> Interrupt execution\n",
        "4.   Runtime -> Change runtime type -> Select GPU as Hardware accelerator\n"
      ]
    },
    {
      "cell_type": "markdown",
      "metadata": {
        "id": "lw8NsQe5chAx",
        "colab_type": "text"
      },
      "source": [
        "## Check the resources obtained from Collab"
      ]
    },
    {
      "cell_type": "markdown",
      "metadata": {
        "id": "5ZehfQhFflDs",
        "colab_type": "text"
      },
      "source": [
        "Google colab is a free to use Jupyter notebook , that allows you to use free Tesla T4 GPU it also gives you a total of 12 GB of ram , and you can use it up to 12 hours in row"
      ]
    },
    {
      "cell_type": "code",
      "metadata": {
        "id": "pZXp0eQ8oLmk",
        "colab_type": "code",
        "outputId": "80dd55a5-6b6b-46de-9b99-c6f290e9a1c9",
        "colab": {
          "base_uri": "https://localhost:8080/",
          "height": 101
        }
      },
      "source": [
        "!lsb_release -a"
      ],
      "execution_count": 0,
      "outputs": [
        {
          "output_type": "stream",
          "text": [
            "No LSB modules are available.\n",
            "Distributor ID:\tUbuntu\n",
            "Description:\tUbuntu 18.04.2 LTS\n",
            "Release:\t18.04\n",
            "Codename:\tbionic\n"
          ],
          "name": "stdout"
        }
      ]
    },
    {
      "cell_type": "code",
      "metadata": {
        "id": "U1csA-nlhVkW",
        "colab_type": "code",
        "outputId": "a13c6ea3-b930-404a-946b-8a0edd263bd4",
        "colab": {
          "base_uri": "https://localhost:8080/",
          "height": 34
        }
      },
      "source": [
        "!uname -r"
      ],
      "execution_count": 0,
      "outputs": [
        {
          "output_type": "stream",
          "text": [
            "4.14.79+\n"
          ],
          "name": "stdout"
        }
      ]
    },
    {
      "cell_type": "code",
      "metadata": {
        "id": "GC1-pLwNwX0Q",
        "colab_type": "code",
        "outputId": "4069345e-a3e6-488a-83e7-ba09d66e5c78",
        "colab": {
          "base_uri": "https://localhost:8080/",
          "height": 84
        }
      },
      "source": [
        "!lscpu | grep 'Model name'\n",
        "!lscpu | grep 'Socket(s):'\n",
        "!lscpu | grep 'Thread(s) per core'\n",
        "!lscpu | grep \"L3 cache\""
      ],
      "execution_count": 0,
      "outputs": [
        {
          "output_type": "stream",
          "text": [
            "Model name:          Intel(R) Xeon(R) CPU @ 2.30GHz\n",
            "Socket(s):           1\n",
            "Thread(s) per core:  2\n",
            "L3 cache:            46080K\n"
          ],
          "name": "stdout"
        }
      ]
    },
    {
      "cell_type": "code",
      "metadata": {
        "id": "HKop1c9_wems",
        "colab_type": "code",
        "outputId": "372dbd6a-a40d-4d63-e3f1-9fc35b6d043a",
        "colab": {
          "base_uri": "https://localhost:8080/",
          "height": 34
        }
      },
      "source": [
        "!cat /proc/meminfo | grep 'MemAvailable'"
      ],
      "execution_count": 0,
      "outputs": [
        {
          "output_type": "stream",
          "text": [
            "MemAvailable:   12636112 kB\n"
          ],
          "name": "stdout"
        }
      ]
    },
    {
      "cell_type": "code",
      "metadata": {
        "id": "2FUd42DCwqTi",
        "colab_type": "code",
        "outputId": "f8841d9c-0bee-4f0c-d6f7-71fd8bdda651",
        "colab": {
          "base_uri": "https://localhost:8080/",
          "height": 50
        }
      },
      "source": [
        "!df -h / | awk '{print $4}'"
      ],
      "execution_count": 0,
      "outputs": [
        {
          "output_type": "stream",
          "text": [
            "Avail\n",
            "311G\n"
          ],
          "name": "stdout"
        }
      ]
    },
    {
      "cell_type": "code",
      "metadata": {
        "id": "OwA37e8s6wUL",
        "colab_type": "code",
        "outputId": "28d50e2f-4599-4bed-e024-c3cae7ce7c35",
        "colab": {
          "base_uri": "https://localhost:8080/",
          "height": 286
        }
      },
      "source": [
        "!nvidia-smi"
      ],
      "execution_count": 0,
      "outputs": [
        {
          "output_type": "stream",
          "text": [
            "Thu Aug  1 20:17:49 2019       \n",
            "+-----------------------------------------------------------------------------+\n",
            "| NVIDIA-SMI 418.67       Driver Version: 410.79       CUDA Version: 10.0     |\n",
            "|-------------------------------+----------------------+----------------------+\n",
            "| GPU  Name        Persistence-M| Bus-Id        Disp.A | Volatile Uncorr. ECC |\n",
            "| Fan  Temp  Perf  Pwr:Usage/Cap|         Memory-Usage | GPU-Util  Compute M. |\n",
            "|===============================+======================+======================|\n",
            "|   0  Tesla T4            Off  | 00000000:00:04.0 Off |                    0 |\n",
            "| N/A   46C    P0    27W /  70W |    129MiB / 15079MiB |      0%      Default |\n",
            "+-------------------------------+----------------------+----------------------+\n",
            "                                                                               \n",
            "+-----------------------------------------------------------------------------+\n",
            "| Processes:                                                       GPU Memory |\n",
            "|  GPU       PID   Type   Process name                             Usage      |\n",
            "|=============================================================================|\n",
            "+-----------------------------------------------------------------------------+\n"
          ],
          "name": "stdout"
        }
      ]
    },
    {
      "cell_type": "code",
      "metadata": {
        "id": "su5jjc2rofL7",
        "colab_type": "code",
        "outputId": "3deaa771-b01e-4265-bdf0-aa06778bbcc7",
        "colab": {
          "base_uri": "https://localhost:8080/",
          "height": 34
        }
      },
      "source": [
        "import tensorflow as tf\n",
        "tf.test.gpu_device_name()"
      ],
      "execution_count": 0,
      "outputs": [
        {
          "output_type": "execute_result",
          "data": {
            "text/plain": [
              "'/device:GPU:0'"
            ]
          },
          "metadata": {
            "tags": []
          },
          "execution_count": 3
        }
      ]
    },
    {
      "cell_type": "code",
      "metadata": {
        "id": "OsegAco0ovpz",
        "colab_type": "code",
        "outputId": "a2fc7546-f0c4-402a-c6fe-4a7dd8bf3375",
        "colab": {
          "base_uri": "https://localhost:8080/",
          "height": 470
        }
      },
      "source": [
        "from tensorflow.python.client import device_lib\n",
        "device_lib.list_local_devices()"
      ],
      "execution_count": 0,
      "outputs": [
        {
          "output_type": "execute_result",
          "data": {
            "text/plain": [
              "[name: \"/device:CPU:0\"\n",
              " device_type: \"CPU\"\n",
              " memory_limit: 268435456\n",
              " locality {\n",
              " }\n",
              " incarnation: 6693702797824929950, name: \"/device:XLA_CPU:0\"\n",
              " device_type: \"XLA_CPU\"\n",
              " memory_limit: 17179869184\n",
              " locality {\n",
              " }\n",
              " incarnation: 14785512819108684033\n",
              " physical_device_desc: \"device: XLA_CPU device\", name: \"/device:XLA_GPU:0\"\n",
              " device_type: \"XLA_GPU\"\n",
              " memory_limit: 17179869184\n",
              " locality {\n",
              " }\n",
              " incarnation: 13348565208460944380\n",
              " physical_device_desc: \"device: XLA_GPU device\", name: \"/device:GPU:0\"\n",
              " device_type: \"GPU\"\n",
              " memory_limit: 14892338381\n",
              " locality {\n",
              "   bus_id: 1\n",
              "   links {\n",
              "   }\n",
              " }\n",
              " incarnation: 8125608699058290526\n",
              " physical_device_desc: \"device: 0, name: Tesla T4, pci bus id: 0000:00:04.0, compute capability: 7.5\"]"
            ]
          },
          "metadata": {
            "tags": []
          },
          "execution_count": 5
        }
      ]
    },
    {
      "cell_type": "markdown",
      "metadata": {
        "id": "z4QNJRwgquM-",
        "colab_type": "text"
      },
      "source": [
        "## Check the libs in Colab"
      ]
    },
    {
      "cell_type": "code",
      "metadata": {
        "id": "A9-haPL0q4oE",
        "colab_type": "code",
        "outputId": "6563f53b-977f-4977-97a2-65ad0e519370",
        "colab": {
          "base_uri": "https://localhost:8080/",
          "height": 52
        }
      },
      "source": [
        "import sys\n",
        "print('The python version is', sys.version)"
      ],
      "execution_count": 0,
      "outputs": [
        {
          "output_type": "stream",
          "text": [
            "The python version is 3.6.8 (default, Oct  7 2019, 12:59:55) \n",
            "[GCC 8.3.0]\n"
          ],
          "name": "stdout"
        }
      ]
    },
    {
      "cell_type": "code",
      "metadata": {
        "id": "9cNUqV2ErHKs",
        "colab_type": "code",
        "outputId": "721aa7e2-3ea2-4a3c-b751-c568a2b5dba7",
        "colab": {
          "base_uri": "https://localhost:8080/",
          "height": 35
        }
      },
      "source": [
        "import sklearn\n",
        "print('The scikit-learn version is {}.'.format(sklearn.__version__))"
      ],
      "execution_count": 0,
      "outputs": [
        {
          "output_type": "stream",
          "text": [
            "The scikit-learn version is 0.21.3.\n"
          ],
          "name": "stdout"
        }
      ]
    },
    {
      "cell_type": "code",
      "metadata": {
        "id": "xfqEBOkgrTx4",
        "colab_type": "code",
        "outputId": "8dbd9ee9-dc9a-4874-8026-688e5f040340",
        "colab": {
          "base_uri": "https://localhost:8080/",
          "height": 35
        }
      },
      "source": [
        "try:\n",
        "  # %tensorflow_version only exists in Colab.\n",
        "  %tensorflow_version 2.x\n",
        "except Exception:\n",
        "  pass"
      ],
      "execution_count": 0,
      "outputs": [
        {
          "output_type": "stream",
          "text": [
            "TensorFlow 2.x selected.\n"
          ],
          "name": "stdout"
        }
      ]
    },
    {
      "cell_type": "markdown",
      "metadata": {
        "id": "_koODdwsaRjG",
        "colab_type": "text"
      },
      "source": [
        "## Mounting Google Drive to Collab's /content/drive"
      ]
    },
    {
      "cell_type": "code",
      "metadata": {
        "id": "5KGcj6hvJeny",
        "colab_type": "code",
        "colab": {}
      },
      "source": [
        "from google.colab import drive\n",
        "drive.mount('/content/drive')"
      ],
      "execution_count": 0,
      "outputs": []
    },
    {
      "cell_type": "markdown",
      "metadata": {
        "id": "aHd8so6h-hd2",
        "colab_type": "text"
      },
      "source": [
        "## Using Kaggle API for Google Colaboratory"
      ]
    },
    {
      "cell_type": "markdown",
      "metadata": {
        "id": "PaK7mN1zK371",
        "colab_type": "text"
      },
      "source": [
        "We need first to download the token from Kaggle:\n",
        "\n",
        "\n",
        "\n",
        "1.   Go to kaggle.com -> log in -> click \"my account\"\n",
        "2.   Scroll down to API and hit “Create New API Token.” It will prompt to download a file called **kaggle.json** to your local computer.\n",
        "\n"
      ]
    },
    {
      "cell_type": "code",
      "metadata": {
        "id": "AqUZt7l2Epk8",
        "colab_type": "code",
        "colab": {}
      },
      "source": [
        "from google.colab import files\n",
        "files.upload()"
      ],
      "execution_count": 0,
      "outputs": []
    },
    {
      "cell_type": "code",
      "metadata": {
        "id": "Mmk-VxoJIzG4",
        "colab_type": "code",
        "colab": {}
      },
      "source": [
        "#!pip install -q kaggle\n",
        "!mkdir -p /root/.kaggle\n",
        "!cp kaggle.json /root/.kaggle\n",
        "!chmod 600 /root/.kaggle/kaggle.json\n",
        "!kaggle config set -n path -v{/content}"
      ],
      "execution_count": 0,
      "outputs": []
    },
    {
      "cell_type": "code",
      "metadata": {
        "id": "r56Pu-HN_qkV",
        "colab_type": "code",
        "colab": {}
      },
      "source": [
        "!kaggle competitions list -s titanic"
      ],
      "execution_count": 0,
      "outputs": []
    },
    {
      "cell_type": "code",
      "metadata": {
        "id": "KpuQNFZcDh-b",
        "colab_type": "code",
        "colab": {}
      },
      "source": [
        "!kaggle competitions download -c titanic -p /content"
      ],
      "execution_count": 0,
      "outputs": []
    },
    {
      "cell_type": "markdown",
      "metadata": {
        "id": "KHY4D0jMbHum",
        "colab_type": "text"
      },
      "source": [
        "## Direct open a jupyter notebook with colab"
      ]
    },
    {
      "cell_type": "markdown",
      "metadata": {
        "id": "NzGdIoTzukq7",
        "colab_type": "text"
      },
      "source": [
        "\n",
        "\n",
        "1.   Change URL from \"https://github.com/...\" to \"https://colab.research.google.com/github/...\"\n",
        "2.   OR: just use the \"[Open in Colab](https://chrome.google.com/webstore/detail/open-in-colab/iogfkhleblhcpcekbiedikdehleodpjo)\" Chrome extension\n",
        "\n",
        "\n",
        "\n",
        "\n",
        "\n"
      ]
    },
    {
      "cell_type": "markdown",
      "metadata": {
        "id": "FwygoZDgdY4O",
        "colab_type": "text"
      },
      "source": [
        "\n",
        "---\n",
        "## References:\n",
        "\n",
        "[1] https://www.kdnuggets.com/2018/02/google-colab-free-gpu-tutorial-tensorflow-keras-pytorch.html\n",
        "\n",
        "[2] https://colab.research.google.com/github/googlecolab/colabtools/blob/master/notebooks/colab-github-demo.ipynb#scrollTo=K-NVg7RjyeTk"
      ]
    }
  ]
}